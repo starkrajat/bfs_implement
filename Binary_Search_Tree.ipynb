{
 "cells": [
  {
   "cell_type": "markdown",
   "metadata": {},
   "source": [
    "# Data values insert into tree"
   ]
  },
  {
   "cell_type": "code",
   "execution_count": 1,
   "metadata": {},
   "outputs": [],
   "source": [
    "l1=[25,36,92,48,53,77]\n",
    "l=[90,50,110,45,70,95,120]"
   ]
  },
  {
   "cell_type": "markdown",
   "metadata": {},
   "source": [
    "# Binary search Tree node structure using class"
   ]
  },
  {
   "cell_type": "code",
   "execution_count": 2,
   "metadata": {},
   "outputs": [],
   "source": [
    "class tree_node:\n",
    "    \n",
    "    parent_node_address = None\n",
    "    \n",
    "    a_number = None\n",
    "    \n",
    "    left_child_address = None\n",
    "    \n",
    "    right_child_address = None"
   ]
  },
  {
   "cell_type": "markdown",
   "metadata": {},
   "source": [
    "# Intialize and Declare root_node as global"
   ]
  },
  {
   "cell_type": "code",
   "execution_count": 3,
   "metadata": {},
   "outputs": [],
   "source": [
    "root_node = None"
   ]
  },
  {
   "cell_type": "markdown",
   "metadata": {},
   "source": [
    "# Construction function of Binary Search Tree"
   ]
  },
  {
   "cell_type": "code",
   "execution_count": 15,
   "metadata": {},
   "outputs": [],
   "source": [
    "def construct_BST(root_node,number):\n",
    "    \n",
    "    if root_node == None:\n",
    "        \n",
    "        new_node = tree_node()\n",
    "        \n",
    "        new_node.a_number = number\n",
    "        \n",
    "        return new_node\n",
    "    \n",
    "    elif number <= root_node.a_number:\n",
    "        \n",
    "        root_node.left_child_address = construct_BST(root_node.left_child_address,number)\n",
    "        \n",
    "        root_node.left_child_address.parent_node_address = root_node\n",
    "        \n",
    "        return root_node\n",
    "    \n",
    "    else:\n",
    "        \n",
    "        root_node.right_child_address = construct_BST(root_node.right_child_address,number)\n",
    "        \n",
    "        root_node.right_child_address.parent_node_address = root_node\n",
    "        \n",
    "        return root_node\n",
    "        \n",
    "    return       "
   ]
  },
  {
   "cell_type": "markdown",
   "metadata": {},
   "source": [
    "# Inorder Traversal of Binary Search Tree\n",
    "# Note that Inorder travesal of Binary search Tree is always in increasing order of values."
   ]
  },
  {
   "cell_type": "code",
   "execution_count": 6,
   "metadata": {},
   "outputs": [],
   "source": [
    "def in_order(root_node):\n",
    "    \n",
    "    if root_node == None:\n",
    "        \n",
    "        return\n",
    "    \n",
    "    in_order(root_node.left_child_address)\n",
    "    \n",
    "    print(root_node.a_number)\n",
    "    \n",
    "    in_order(root_node.right_child_address)"
   ]
  },
  {
   "cell_type": "markdown",
   "metadata": {},
   "source": [
    "# Preorder Traversal of Binary Search Tree"
   ]
  },
  {
   "cell_type": "code",
   "execution_count": 7,
   "metadata": {},
   "outputs": [],
   "source": [
    "def pre_order(root_node):\n",
    "    \n",
    "    if root_node == None:\n",
    "        \n",
    "        return\n",
    "    \n",
    "    print(root_node.a_number)\n",
    "    \n",
    "    pre_order(root_node.left_child_address)\n",
    "    \n",
    "    pre_order(root_node.right_child_address)"
   ]
  },
  {
   "cell_type": "markdown",
   "metadata": {},
   "source": [
    "# Postorder Traversal of Binary Search Tree"
   ]
  },
  {
   "cell_type": "code",
   "execution_count": 10,
   "metadata": {},
   "outputs": [],
   "source": [
    "def post_order(root_node):\n",
    "    \n",
    "    if root_node == None:\n",
    "        \n",
    "        return\n",
    "    \n",
    "    post_order(root_node.left_child_address)\n",
    "    \n",
    "    post_order(root_node.right_child_address)\n",
    "    \n",
    "    print(root_node.a_number)\n"
   ]
  },
  {
   "cell_type": "markdown",
   "metadata": {},
   "source": [
    "# BFS or Level Order Traversal of Binary Search Tree"
   ]
  },
  {
   "cell_type": "code",
   "execution_count": 8,
   "metadata": {},
   "outputs": [],
   "source": [
    "stack_address = list()\n",
    "def BFS_Traversal(root_node):\n",
    "    \n",
    "    #stack_address = list()\n",
    "    \n",
    "    if root_node:\n",
    "        print(root_node.a_number)\n",
    "        \n",
    "    if(root_node.left_child_address):\n",
    "        #print(\"left\")\n",
    "        stack_address.append(root_node.left_child_address)\n",
    "        \n",
    "        \n",
    "        \n",
    "    if(root_node.right_child_address):\n",
    "        #print(\"right\")\n",
    "        stack_address.append(root_node.right_child_address)\n",
    "        #print(stack_address[0])\n",
    "        \n",
    "        \n",
    "        \n",
    "    if(stack_address):\n",
    "        #print(\"hello\")\n",
    "        \n",
    "        BFS_Traversal(stack_address.pop(0))\n",
    "        #len(stack_address)\n",
    "    return"
   ]
  },
  {
   "cell_type": "markdown",
   "metadata": {},
   "source": [
    "# Calling Construct_BST function for creating tree with values present in list l"
   ]
  },
  {
   "cell_type": "code",
   "execution_count": 13,
   "metadata": {},
   "outputs": [],
   "source": [
    "for num in l:\n",
    "    \n",
    "    root_node = construct_BST(root_node, num)"
   ]
  },
  {
   "cell_type": "markdown",
   "metadata": {},
   "source": [
    "# Calling Pre_order function"
   ]
  },
  {
   "cell_type": "code",
   "execution_count": 14,
   "metadata": {},
   "outputs": [
    {
     "name": "stdout",
     "output_type": "stream",
     "text": [
      "90\n",
      "50\n",
      "45\n",
      "70\n",
      "110\n",
      "95\n",
      "120\n"
     ]
    }
   ],
   "source": [
    "pre_order(root_node)"
   ]
  },
  {
   "cell_type": "markdown",
   "metadata": {},
   "source": [
    "# Calling post_order function"
   ]
  },
  {
   "cell_type": "code",
   "execution_count": 11,
   "metadata": {},
   "outputs": [
    {
     "name": "stdout",
     "output_type": "stream",
     "text": [
      "45\n",
      "70\n",
      "50\n",
      "95\n",
      "120\n",
      "110\n",
      "90\n"
     ]
    }
   ],
   "source": [
    "post_order(root_node)"
   ]
  },
  {
   "cell_type": "markdown",
   "metadata": {},
   "source": [
    "# Calling in_order function"
   ]
  },
  {
   "cell_type": "code",
   "execution_count": 12,
   "metadata": {},
   "outputs": [
    {
     "name": "stdout",
     "output_type": "stream",
     "text": [
      "45\n",
      "50\n",
      "70\n",
      "90\n",
      "95\n",
      "110\n",
      "120\n"
     ]
    }
   ],
   "source": [
    "in_order(root_node)"
   ]
  },
  {
   "cell_type": "markdown",
   "metadata": {},
   "source": [
    "# Calling BFS_Traversal function"
   ]
  },
  {
   "cell_type": "code",
   "execution_count": 13,
   "metadata": {},
   "outputs": [
    {
     "name": "stdout",
     "output_type": "stream",
     "text": [
      "90\n",
      "50\n",
      "110\n",
      "45\n",
      "70\n",
      "95\n",
      "120\n"
     ]
    }
   ],
   "source": [
    "BFS_Traversal(root_node)"
   ]
  },
  {
   "cell_type": "code",
   "execution_count": null,
   "metadata": {},
   "outputs": [],
   "source": []
  }
 ],
 "metadata": {
  "kernelspec": {
   "display_name": "Python 3",
   "language": "python",
   "name": "python3"
  },
  "language_info": {
   "codemirror_mode": {
    "name": "ipython",
    "version": 3
   },
   "file_extension": ".py",
   "mimetype": "text/x-python",
   "name": "python",
   "nbconvert_exporter": "python",
   "pygments_lexer": "ipython3",
   "version": "3.8.5"
  }
 },
 "nbformat": 4,
 "nbformat_minor": 4
}
